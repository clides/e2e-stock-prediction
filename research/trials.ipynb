{
 "cells": [
  {
   "cell_type": "code",
   "execution_count": 76,
   "metadata": {},
   "outputs": [
    {
     "name": "stderr",
     "output_type": "stream",
     "text": [
      "[*********************100%***********************]  1 of 1 completed"
     ]
    },
    {
     "name": "stdout",
     "output_type": "stream",
     "text": [
      "Price            Close        High         Low        Open    Volume\n",
      "Ticker            AAPL        AAPL        AAPL        AAPL      AAPL\n",
      "Date                                                                \n",
      "2024-01-02  184.290405  187.070052  182.553128  185.789422  82488700\n",
      "2024-01-03  182.910538  184.528693  182.096492  182.880757  58414500\n",
      "2024-01-04  180.587540  181.758954  179.565029  180.825785  71983600\n",
      "2024-01-05  179.862839  181.431354  178.860187  180.666963  62303300\n",
      "2024-01-08  184.210983  184.250701  180.180502  180.766209  59144500\n"
     ]
    },
    {
     "name": "stderr",
     "output_type": "stream",
     "text": [
      "\n"
     ]
    }
   ],
   "source": [
    "import yfinance as yf\n",
    "\n",
    "# Download AAPL data for the last 6 months\n",
    "df = yf.download(\"AAPL\", start=\"2024-01-01\", end=\"2024-06-30\")\n",
    "print(df.head())"
   ]
  },
  {
   "cell_type": "code",
   "execution_count": 80,
   "metadata": {},
   "outputs": [
    {
     "name": "stdout",
     "output_type": "stream",
     "text": [
      "Price            Close        Open        High         Low    Volume\n",
      "Date                                                                \n",
      "2024-01-02  184.290405  185.789422  187.070052  182.553128  82488700\n",
      "2024-01-03  182.910538  182.880757  184.528693  182.096492  58414500\n",
      "2024-01-04  180.587540  180.825785  181.758954  179.565029  71983600\n",
      "2024-01-05  179.862839  180.666963  181.431354  178.860187  62303300\n",
      "2024-01-08  184.210983  180.766209  184.250701  180.180502  59144500\n"
     ]
    }
   ],
   "source": [
    "data = df.copy()\n",
    "\n",
    "data.columns = data.columns.droplevel('Ticker')\n",
    "data.columns.name = None\n",
    "\n",
    "cols = ['Close', 'Open', 'High', 'Low', 'Volume']\n",
    "data = data[cols]"
   ]
  },
  {
   "cell_type": "code",
   "execution_count": null,
   "metadata": {},
   "outputs": [],
   "source": []
  }
 ],
 "metadata": {
  "kernelspec": {
   "display_name": "e2e-stock-pred",
   "language": "python",
   "name": "python3"
  },
  "language_info": {
   "codemirror_mode": {
    "name": "ipython",
    "version": 3
   },
   "file_extension": ".py",
   "mimetype": "text/x-python",
   "name": "python",
   "nbconvert_exporter": "python",
   "pygments_lexer": "ipython3",
   "version": "3.11.8"
  }
 },
 "nbformat": 4,
 "nbformat_minor": 2
}
