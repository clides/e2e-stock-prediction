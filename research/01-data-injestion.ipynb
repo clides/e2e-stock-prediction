{
 "cells": [
  {
   "cell_type": "code",
   "execution_count": 3,
   "metadata": {},
   "outputs": [],
   "source": [
    "import yfinance as yf\n",
    "import pandas as pd\n",
    "import os\n",
    "from datetime import datetime\n",
    "from lstmPredictor.utils.common import validate_date, validate_ticker"
   ]
  },
  {
   "cell_type": "code",
   "execution_count": 20,
   "metadata": {},
   "outputs": [],
   "source": [
    "import os\n",
    "import pandas as pd\n",
    "import yfinance as yf\n",
    "from typing import Optional\n",
    "from lstmPredictor.entity import DataIngestionConfig\n",
    "\n",
    "class StockDataIngestion:\n",
    "    def __init__(self, config: DataIngestionConfig):\n",
    "        \"\"\"\n",
    "        Initialize with a validated DataIngestionConfig object.\n",
    "        \"\"\"\n",
    "        self.config = config\n",
    "        # Create directory if it doesn't exist\n",
    "        os.makedirs(os.path.dirname(self.config.csv_path), exist_ok=True)\n",
    "        \n",
    "    def fetch_data(self) -> pd.DataFrame:\n",
    "        \"\"\"Download stock data from Yahoo Finance using validated config.\"\"\"\n",
    "        try:\n",
    "            data = yf.download(\n",
    "                self.config.ticker,\n",
    "                start=self.config.start_date,\n",
    "                end=self.config.end_date\n",
    "            )\n",
    "            if data.empty:\n",
    "                raise ValueError(f\"No data found for {self.config.ticker} in the given range.\")\n",
    "            return data\n",
    "        except Exception as e:\n",
    "            raise RuntimeError(f\"Failed to fetch data: {str(e)}\")\n",
    "    \n",
    "    def save_data(self, data: pd.DataFrame) -> None:\n",
    "        \"\"\"Store the raw stock data using the path from config.\"\"\"\n",
    "        try:\n",
    "            data.to_csv(self.config.csv_path)\n",
    "            print(f\"Successfully saved data to {self.config.csv_path}\")  # Fixed f-string\n",
    "        except Exception as e:\n",
    "            raise RuntimeError(f\"Failed to save data: {str(e)}\")\n",
    "        \n",
    "    def run_ingestion(self) -> str:\n",
    "        \"\"\"\n",
    "        Run the complete ingestion process.\n",
    "        Returns the path where data was saved.\n",
    "        \"\"\"\n",
    "        data = self.fetch_data()\n",
    "        self.save_data(data)\n",
    "        return self.config.csv_path"
   ]
  },
  {
   "cell_type": "code",
   "execution_count": 23,
   "metadata": {},
   "outputs": [
    {
     "name": "stderr",
     "output_type": "stream",
     "text": [
      "[*********************100%***********************]  1 of 1 completed"
     ]
    },
    {
     "name": "stdout",
     "output_type": "stream",
     "text": [
      "Saved data to {self.raw_data_path}\n"
     ]
    },
    {
     "name": "stderr",
     "output_type": "stream",
     "text": [
      "\n"
     ]
    },
    {
     "data": {
      "text/plain": [
       "'../artifacts/data_ingestion/TSLA/2024-01-01_to_2024-01-31.csv'"
      ]
     },
     "execution_count": 23,
     "metadata": {},
     "output_type": "execute_result"
    }
   ],
   "source": [
    "stock_injestion = StockDataInjestion(\n",
    "    ticker=\"TSLA\",\n",
    "    start_date=\"2024-01-01\",\n",
    "    end_date=\"2024-01-31\"\n",
    ")\n",
    "stock_injestion.run_injestion()"
   ]
  },
  {
   "cell_type": "code",
   "execution_count": null,
   "metadata": {},
   "outputs": [],
   "source": []
  }
 ],
 "metadata": {
  "kernelspec": {
   "display_name": "e2e-stock-pred",
   "language": "python",
   "name": "python3"
  },
  "language_info": {
   "codemirror_mode": {
    "name": "ipython",
    "version": 3
   },
   "file_extension": ".py",
   "mimetype": "text/x-python",
   "name": "python",
   "nbconvert_exporter": "python",
   "pygments_lexer": "ipython3",
   "version": "3.11.8"
  }
 },
 "nbformat": 4,
 "nbformat_minor": 2
}
